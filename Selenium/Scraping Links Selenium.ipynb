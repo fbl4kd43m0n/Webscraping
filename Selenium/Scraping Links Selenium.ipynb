{
 "cells": [
  {
   "cell_type": "code",
   "execution_count": 1,
   "metadata": {},
   "outputs": [],
   "source": [
    "import re\n",
    "import linkGrabber"
   ]
  },
  {
   "cell_type": "code",
   "execution_count": 12,
   "metadata": {},
   "outputs": [],
   "source": [
    "links = linkGrabber.Links('http://google.com')"
   ]
  },
  {
   "cell_type": "code",
   "execution_count": 15,
   "metadata": {},
   "outputs": [
    {
     "name": "stdout",
     "output_type": "stream",
     "text": [
      "[   {   'class': ['gb1'],\n",
      "        'href': 'http://www.google.com.br/imghp?hl=pt-BR&tab=wi',\n",
      "        'seo': 'imghp?hl=pt BR&tab=wi',\n",
      "        'text': 'Imagens'},\n",
      "    {   'class': ['gb1'],\n",
      "        'href': 'http://maps.google.com.br/maps?hl=pt-BR&tab=wl',\n",
      "        'seo': 'maps?hl=pt BR&tab=wl',\n",
      "        'text': 'Maps'},\n",
      "    {   'class': ['gb1'],\n",
      "        'href': 'https://play.google.com/?hl=pt-BR&tab=w8',\n",
      "        'seo': '?hl=pt BR&tab=w8',\n",
      "        'text': 'Play'},\n",
      "    {   'class': ['gb1'],\n",
      "        'href': 'http://www.youtube.com/?gl=BR&tab=w1',\n",
      "        'seo': '?gl=BR&tab=w1',\n",
      "        'text': 'YouTube'},\n",
      "    {   'class': ['gb1'],\n",
      "        'href': 'http://news.google.com.br/nwshp?hl=pt-BR&tab=wn',\n",
      "        'seo': 'nwshp?hl=pt BR&tab=wn',\n",
      "        'text': 'Notícias'},\n",
      "    {   'class': ['gb1'],\n",
      "        'href': 'https://mail.google.com/mail/?tab=wm',\n",
      "        'seo': '?tab=wm',\n",
      "        'text': 'Gmail'},\n",
      "    {   'class': ['gb1'],\n",
      "        'href': 'https://drive.google.com/?tab=wo',\n",
      "        'seo': '?tab=wo',\n",
      "        'text': 'Drive'},\n",
      "    {   'class': ['gb1'],\n",
      "        'href': 'https://www.google.com.br/intl/pt-BR/about/products?tab=wh',\n",
      "        'seo': 'products?tab=wh',\n",
      "        'style': 'text-decoration:none',\n",
      "        'text': 'products?tab=wh'}]\n"
     ]
    }
   ],
   "source": [
    "gb = links.find(limit=8, duplicates=False, pretty=True)"
   ]
  },
  {
   "cell_type": "code",
   "execution_count": 11,
   "metadata": {},
   "outputs": [
    {
     "name": "stdout",
     "output_type": "stream",
     "text": [
      "None\n"
     ]
    }
   ],
   "source": [
    "print(gb)"
   ]
  },
  {
   "cell_type": "code",
   "execution_count": null,
   "metadata": {},
   "outputs": [],
   "source": []
  }
 ],
 "metadata": {
  "kernelspec": {
   "display_name": "Python 3",
   "language": "python",
   "name": "python3"
  },
  "language_info": {
   "codemirror_mode": {
    "name": "ipython",
    "version": 3
   },
   "file_extension": ".py",
   "mimetype": "text/x-python",
   "name": "python",
   "nbconvert_exporter": "python",
   "pygments_lexer": "ipython3",
   "version": "3.7.3"
  }
 },
 "nbformat": 4,
 "nbformat_minor": 2
}
